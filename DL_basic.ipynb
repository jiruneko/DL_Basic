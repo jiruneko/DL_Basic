{
  "nbformat": 4,
  "nbformat_minor": 0,
  "metadata": {
    "colab": {
      "provenance": [],
      "authorship_tag": "ABX9TyMhEnW+ZwLYSdZpDm6e8lc7",
      "include_colab_link": true
    },
    "kernelspec": {
      "name": "python3",
      "display_name": "Python 3"
    },
    "language_info": {
      "name": "python"
    }
  },
  "cells": [
    {
      "cell_type": "markdown",
      "metadata": {
        "id": "view-in-github",
        "colab_type": "text"
      },
      "source": [
        "<a href=\"https://colab.research.google.com/github/jiruneko/DL_Basic/blob/main/DL_basic.ipynb\" target=\"_parent\"><img src=\"https://colab.research.google.com/assets/colab-badge.svg\" alt=\"Open In Colab\"/></a>"
      ]
    },
    {
      "cell_type": "code",
      "execution_count": null,
      "metadata": {
        "id": "X8mQwaDGz0bs"
      },
      "outputs": [],
      "source": [
        "import keras\n",
        "from keras import layers\n",
        "from keras.datasets import mnist\n",
        "\n",
        "(x_train, y_train),(x_test, y_test) = mnist.load_data()\n",
        "x_train, x_test = x_train / 255.0, x_test / 255.0\n",
        "model = keras.models.Sequential()\n",
        "model.add(layers.Flatten(input_shape=(28, 28)))\n",
        "model.add(layers.Dense(128, activation=\"relu\"))\n",
        "model.add(layers.Dense(10, activation=\"softmax\"))\n",
        "model.compile(optimizer=\"adam\",\n",
        "              loss=\"sparse_categorical_crossentropy\",\n",
        "              metrics=[\"accuracy\"])\n",
        "model.fit(x_train, y_train, epochs=5,\n",
        "          validation_data=(x_test, y_test))"
      ]
    },
    {
      "cell_type": "code",
      "source": [
        "import matplotlib.pyplot as plt\n",
        "import numpy as np\n",
        "\n",
        "plt.imshow(x_test[0], cmap=\"Greys\")\n",
        "plt.show()\n",
        "pre = model.predict(x_test)\n",
        "index = np.argmax(pre[0])\n",
        "print(index)"
      ],
      "metadata": {
        "id": "zJ_nD8MN4RCw"
      },
      "execution_count": null,
      "outputs": []
    },
    {
      "cell_type": "code",
      "source": [
        "X1 = [0,1,0,1]\n",
        "X2 = [0,0,1,1]\n",
        "\n",
        "def test(x1, x2):\n",
        "  if x1 == 1 and x2 == 1:\n",
        "    return 1\n",
        "  else:\n",
        "    return 0\n",
        "\n",
        "def disp_results(func):\n",
        "  for i in range(4):\n",
        "    Y = func(X1[i], X2[i])\n",
        "    print(f\"{X1[i]}, {X2[i]} = {Y}\")\n",
        "\n",
        "disp_results(test)"
      ],
      "metadata": {
        "id": "HYNYe6uD5cxA"
      },
      "execution_count": null,
      "outputs": []
    },
    {
      "cell_type": "code",
      "source": [
        "def and_test(x1, x2):\n",
        "  w1, w2, theta = 0.5, 0.5, 0.8\n",
        "  ans = w1 * x1 + w2 * x2\n",
        "  if ans > theta:\n",
        "    return 1\n",
        "  else:\n",
        "    return 0\n",
        "\n",
        "disp_results(and_test)"
      ],
      "metadata": {
        "id": "fisbeL1iCurh"
      },
      "execution_count": null,
      "outputs": []
    },
    {
      "cell_type": "code",
      "source": [
        "import numpy as np\n",
        "import matplotlib.pyplot as plt\n",
        "\n",
        "def fillscolors(data):\n",
        "  return \"#ffc2c2\" if data > 0 else \"#c6dcec\"\n",
        "def dotscolors(data):\n",
        "  return \"#ff0e0e\" if data > 0 else \"#1f77b4\"\n",
        "\n",
        "def plot_perceptron(func, X1, X2):\n",
        "  plt.figure(figsize=(6, 6))\n",
        "  XX, YY = np.meshgrid(\n",
        "      np.linspace(-0.25, 1.25, 200),\n",
        "      np.linspace(-0.25, 1.25, 200))\n",
        "  XX = np.array(XX).flatten()\n",
        "  YY = np.array(YY).flatten()\n",
        "  fills = []\n",
        "  colors = []\n",
        "  for i in range(len(XX)):\n",
        "    fills.append(func(XX[i], YY[i]))\n",
        "    colors.append(fillscolors(fills[i]))\n",
        "  plt.scatter(XX, YY, c=colors)\n",
        "\n",
        "  dots = []\n",
        "  colors = []\n",
        "  for i in range(len(X1)):\n",
        "    dots.append(func(X1[i], X2[i]))\n",
        "    colors.append(dotscolors(dots[i]))\n",
        "  plt.scatter(X1, X2, c=colors)\n",
        "  plt.xlabel(\"X1\")\n",
        "  plt.ylabel(\"X2\")\n",
        "  plt.show()\n",
        "\n",
        "plot_perceptron(and_test, X1, X2)"
      ],
      "metadata": {
        "id": "ElqNBYNr6hZQ"
      },
      "execution_count": null,
      "outputs": []
    },
    {
      "cell_type": "code",
      "source": [
        "def or_test(x1, x2):\n",
        "  w1, w2, theta = 0.5, 0.5, 0.2\n",
        "  ans = w1 * x1 + w2 * x2\n",
        "  if ans > theta:\n",
        "    return 1\n",
        "  else:\n",
        "    return 0\n",
        "\n",
        "disp_results(or_test)\n",
        "\n",
        "plot_perceptron(or_test, X1, X2)"
      ],
      "metadata": {
        "id": "0JRzsK2_BYQ5"
      },
      "execution_count": null,
      "outputs": []
    },
    {
      "cell_type": "code",
      "source": [
        "def nand_test(x1, x2):\n",
        "  w1, w2, theta = -0.5, -0.5, -0.8\n",
        "  ans = w1 * x1 + w2 * x2\n",
        "  if ans > theta:\n",
        "    return 1\n",
        "  else:\n",
        "    return 0\n",
        "\n",
        "disp_results(nand_test)\n",
        "\n",
        "plot_perceptron(nand_test, X1, X2)"
      ],
      "metadata": {
        "id": "hyrSzLiHFs76"
      },
      "execution_count": null,
      "outputs": []
    },
    {
      "cell_type": "code",
      "source": [
        "def xor_test(x1, x2):\n",
        "  if or_test(x1, x2) > 0:\n",
        "    s1 = 1\n",
        "  else:\n",
        "    s1 = 0\n",
        "  if nand_test(x1, x2) > 0:\n",
        "    s2 = 1\n",
        "  else:\n",
        "    s2 = 0\n",
        "  ans = and_test(s1, s2)\n",
        "  if ans > 0:\n",
        "    return 1\n",
        "  else:\n",
        "    return 0\n",
        "\n",
        "disp_results(xor_test)"
      ],
      "metadata": {
        "id": "GjQ0hV4dGC1E"
      },
      "execution_count": null,
      "outputs": []
    },
    {
      "cell_type": "code",
      "source": [
        "plot_perceptron(xor_test, X1, X2)"
      ],
      "metadata": {
        "id": "tW0Ut5wsG3eA"
      },
      "execution_count": null,
      "outputs": []
    },
    {
      "cell_type": "code",
      "source": [
        "import numpy as np\n",
        "import matplotlib.pyplot as plt\n",
        "\n",
        "def step_func(x):\n",
        "  return np.where(x>0, 1, 0)\n",
        "x1 = np.linspace(-5, 5, 500)\n",
        "y1 = step_func(x1)\n",
        "\n",
        "plt.plot(x1, y1)\n",
        "plt.legend([\"step\"], loc=\"best\")\n",
        "plt.yticks(np.arange(0, 1.2, step=0.5))\n",
        "plt.grid()\n",
        "plt.show()"
      ],
      "metadata": {
        "id": "WSkWLxW4G86a"
      },
      "execution_count": null,
      "outputs": []
    },
    {
      "cell_type": "code",
      "source": [
        "def sigmoid_func(x):\n",
        "  return 1/(1+np.exp(-x))\n",
        "x2 = np.linspace(-5, 5)\n",
        "y2 = sigmoid_func(x2)\n",
        "\n",
        "plt.plot(x1, y1)\n",
        "plt.plot(x2 ,y2)\n",
        "plt.legend([\"step\", \"sigmoid\"], loc=\"best\")\n",
        "plt.yticks(np.arange(0, 1.2, step=0.5))\n",
        "plt.grid()\n",
        "plt.show()"
      ],
      "metadata": {
        "id": "gUqrvKuzI3qa"
      },
      "execution_count": null,
      "outputs": []
    },
    {
      "cell_type": "code",
      "source": [
        "def tanh_func(x):\n",
        "  return np.tanh(x)\n",
        "x3 = np.linspace(-5, 5)\n",
        "y3 = tanh_func(x3)\n",
        "\n",
        "plt.plot(x1, y1)\n",
        "plt.plot(x2, y2)\n",
        "plt.plot(x3, y3)\n",
        "plt.legend([\"step\", \"sigmoid\", \"tanh\"], loc=\"best\")\n",
        "plt.yticks(np.arange(-1, 1.2, step=0.5))\n",
        "plt.grid()\n",
        "plt.show()"
      ],
      "metadata": {
        "id": "Mxp1nPzCJaHx"
      },
      "execution_count": null,
      "outputs": []
    },
    {
      "cell_type": "code",
      "source": [
        "def relu_func(x):\n",
        "  return np.where(x>0, x, 0)\n",
        "x4 = np.linspace(-5, 5)\n",
        "y4 = relu_func(x4)\n",
        "\n",
        "plt.plot(x1, y1)\n",
        "plt.plot(x2, y2)\n",
        "plt.plot(x3, y3)\n",
        "plt.plot(x4, y4)\n",
        "plt.legend([\"step\", \"sigmoid\", \"tanh\", \"relu\"], loc=\"best\")\n",
        "plt.yticks(np.arange(0, 1.2, step=0.5))\n",
        "plt.grid()\n",
        "plt.show()"
      ],
      "metadata": {
        "id": "C5jqvng4NVmg"
      },
      "execution_count": null,
      "outputs": []
    },
    {
      "cell_type": "code",
      "source": [
        "!pip install japanize-matplotlib"
      ],
      "metadata": {
        "id": "a7CZkoSwNnaU"
      },
      "execution_count": null,
      "outputs": []
    },
    {
      "cell_type": "code",
      "source": [
        "import japanize_matplotlib\n",
        "import matplotlib.pyplot as plt\n",
        "import numpy as np\n",
        "import keras\n",
        "from keras import layers"
      ],
      "metadata": {
        "id": "2Cx9KB8-ORjJ"
      },
      "execution_count": null,
      "outputs": []
    },
    {
      "cell_type": "code",
      "source": [
        "input_data = [[0, 0], [1, 0], [0, 1], [1, 1]]\n",
        "xor_data = [0, 1, 1, 0]\n",
        "x_train = x_test = np.array(input_data)\n",
        "y_train = y_test = np.array(xor_data)\n",
        "\n",
        "print(\"学種データ（問題）:\")\n",
        "print(x_train)\n",
        "print(f\"学習データ（答え）:{y_train}\")"
      ],
      "metadata": {
        "id": "_LX6puCaOi1U"
      },
      "execution_count": null,
      "outputs": []
    },
    {
      "cell_type": "code",
      "source": [
        "model = keras.models.Sequential()\n",
        "model.add(layers.Dense(3, activation=\"relu\", input_dim=2))"
      ],
      "metadata": {
        "id": "hSJAxqGvPib4"
      },
      "execution_count": null,
      "outputs": []
    },
    {
      "cell_type": "code",
      "source": [],
      "metadata": {
        "id": "HFBbYahkPwb2"
      },
      "execution_count": null,
      "outputs": []
    }
  ]
}